{
 "cells": [
  {
   "cell_type": "markdown",
   "metadata": {
    "lines_to_next_cell": 0
   },
   "source": [
    "# Introduction \n",
    "In this code we're going to work though an extended example that demonstrates how randomization inference works. As noted in the lecture, we are working through the example of a randomized assignment of men and women to eat (or not eat) soybeans and we are measuring the level of estrogen present in each of their bloodstreams (perhaps in parts/million).\n",
    "\n",
    "You *do not* have to work through this whole worksheet at once. In fact, it might make more sense to only work through it alongside the examples that David and David are talking about. \n",
    "\n",
    "First, we create a grouping variable with two groups, one called \"Man\", and another called \"Woman\". "
   ]
  },
  {
   "cell_type": "code",
   "execution_count": null,
   "metadata": {},
   "outputs": [],
   "source": [
    "group = "
   ]
  },
  {
   "cell_type": "code",
   "execution_count": null,
   "metadata": {},
   "outputs": [],
   "source": [
    "\n",
    "group <- c(rep(\"Man\",20),rep(\"Woman\",20))"
   ]
  },
  {
   "cell_type": "markdown",
   "metadata": {},
   "source": [
    "To these groups, we assign silly, but schematically heplful *potential outcomes* to treatment and control. We say that, by some chance, we sampled men into our study that had estrogen ppm levels that ranged from 1-20, in perfect increments. Also, what luck, but we sampled women into the study that had estrogen levels that ranged from 51-70. So, the women have on average higher estrogen beginning the study. "
   ]
  },
  {
   "cell_type": "code",
   "execution_count": null,
   "metadata": {},
   "outputs": [],
   "source": [
    "po_control <- c(seq(from = 1, to = 20), seq(from = 51, to = 70))\n",
    "po_treatment <- po_control #no effect because potential outcomes in treatment are the same\n",
    "po_control\n",
    "po_treatment"
   ]
  },
  {
   "cell_type": "markdown",
   "metadata": {},
   "source": [
    "Per our randomization scheme, we are going to randomly assign the individuals to either eat lots of tofu `(treatment == 1)` or to eat no tofu `(treatment == 0)`. To do this, we write a simple function that will randomly place zeros and ones for the treatment and control. "
   ]
  },
  {
   "cell_type": "code",
   "execution_count": null,
   "metadata": {},
   "outputs": [],
   "source": [
    "randomize <- function() { \n",
    "  sample(c(rep(0,20),rep(1,20)))\n",
    "} \n",
    "## from the help file\n",
    "## For sample the default for size is the number of items inferred from the first argument"
   ]
  },
  {
   "cell_type": "markdown",
   "metadata": {},
   "source": [
    "As is the case with David R's comments in the async material, if this code isn't strictly intuitive to you, we have lots of options to write other randomization functions. "
   ]
  },
  {
   "cell_type": "code",
   "execution_count": null,
   "metadata": {},
   "outputs": [],
   "source": [
    "cases <- c(0,1)\n",
    "randomizeV2 <- function() { \n",
    "  sample(cases, size = length(group), replace = TRUE)\n",
    "  }\n",
    "\n",
    "randomize()\n",
    "randomizeV2()"
   ]
  },
  {
   "cell_type": "markdown",
   "metadata": {},
   "source": [
    "With our randomization function in hand, we can now set up our vector of treatment assignments. This is simply storing the results of our function randomize in a vector object called treatment. "
   ]
  },
  {
   "cell_type": "code",
   "execution_count": null,
   "metadata": {},
   "outputs": [],
   "source": [
    "treatment <- randomize() #Conduct randomization for this experiment\n",
    "treatment\n",
    "table(treatment)"
   ]
  },
  {
   "cell_type": "markdown",
   "metadata": {},
   "source": [
    "Recall that we are setting up an experiment that has **no** effect. As Green and Gerber point out in *Field Experiments* in the case of the sharp-null, we are actually testing against the possiblity that we observe both the potential outcomes! (As a comprehension check, explain why this is true).\n",
    "\n",
    "Next, we create a vector of realized outcomes, first using the compact notation that Green and Gerber prefer using maths. For those randomized to treamtent, we multiply the potential outcome to treatment time the treatment vector (which is a 1 when they were assigned to treatment), and for those in control, into this vector we assign the potential outcome to control time the quantity `(1 - treatment)` which will be one when they are in the treatment group. "
   ]
  },
  {
   "cell_type": "code",
   "execution_count": null,
   "metadata": {},
   "outputs": [],
   "source": [
    "outcomes <- po_treatment * treatment + po_control*(1-treatment)\n",
    "outcomes"
   ]
  },
  {
   "cell_type": "markdown",
   "metadata": {},
   "source": [
    "One of the points that David R. and David B. make in their lecture is that we could have alternatively written this as a *very* simple subset, if math isn't your thing but programming control flows is. \n",
    "\n",
    "Standard practice in R would be the follow style of subset: "
   ]
  },
  {
   "cell_type": "code",
   "execution_count": null,
   "metadata": {},
   "outputs": [],
   "source": [
    "outcomesV2 <- rep(NA, length(group))\n",
    "outcomesV2[treatment == 0] <- po_control[treatment == 0]\n",
    "outcomesV2[treatment == 1] <- po_treatment[treatment == 1] "
   ]
  },
  {
   "cell_type": "markdown",
   "metadata": {},
   "source": [
    "Although if you're coming from another language that doesn't place such a high value on vectorized operations, you might go for it in the following way: "
   ]
  },
  {
   "cell_type": "code",
   "execution_count": null,
   "metadata": {},
   "outputs": [],
   "source": [
    "outcomesV3 <- rep(NA, length(group))\n",
    "for(i in 1:length(group)) { \n",
    "  if(treatment[i] == 0) { \n",
    "    outcomesV3[i] <- po_control[i]\n",
    "    } else if(treatment[i] == 1) { \n",
    "      outcomesV3[i] <- po_treatment[i]\n",
    "      }\n",
    "  }"
   ]
  },
  {
   "cell_type": "markdown",
   "metadata": {},
   "source": [
    "Check that they're all doing the same thing"
   ]
  },
  {
   "cell_type": "code",
   "execution_count": null,
   "metadata": {},
   "outputs": [],
   "source": [
    "table(outcomes == outcomesV2)\n",
    "table(outcomes == outcomesV3)"
   ]
  },
  {
   "cell_type": "markdown",
   "metadata": {},
   "source": [
    "To my eye, the clarity of either the math version or the vector subset version are much more transparent in what they're accomplishing -- they have the added benefit of working more quickly in R if you have a large number of opertaions to run. \n",
    "\n",
    "# Ok so we've got our data set up. Now what? \n",
    "Now that we have the data set up, we can begin to examine what the lecture is really about, what is the distribution of ATE that we observe due to the different possibly assignments to treatment and control. A few points to remember: \n",
    "\n",
    "1. From last week: The difference in sample means between the treatment and control groups is an unbiased estimator of the ATE. \n",
    "2. Also from last week: This does not imply that any one realization of treatment/control assignment is guaranteed to exactly produce that ATE.\n",
    "\n",
    "This is the entire point of understanding the distribution of the ATE. \n",
    "\n",
    "To get here, first lets write another function that will calculate the ATE. "
   ]
  },
  {
   "cell_type": "code",
   "execution_count": null,
   "metadata": {},
   "outputs": [],
   "source": [
    "est_ate <- function(outcome, treat) { \n",
    "  mean(outcome[treat==1]) - mean(outcome[treat==0])\n",
    "  } \n",
    "est_ate"
   ]
  },
  {
   "cell_type": "markdown",
   "metadata": {},
   "source": [
    "And then, let's actually compute the average treatment effect for this experiment: "
   ]
  },
  {
   "cell_type": "code",
   "execution_count": null,
   "metadata": {},
   "outputs": [],
   "source": [
    "ate <- est_ate(outcomes, treatment) \n",
    "ate "
   ]
  },
  {
   "cell_type": "markdown",
   "metadata": {},
   "source": [
    "**What gives!** We created this data such that there is *exactly* zero treament effect.  Note, even more specifically than creating the data so that there was no *average treatment effect* we constructed this so that there was no effect at all -- this is at the potential outcomes level! Recall that Y(0) = Y(1).  \n",
    "\n",
    "# How big is that difference likely to be on average?\n",
    "We can figure out what would happen if we did this same randomization a few of times. "
   ]
  },
  {
   "cell_type": "code",
   "execution_count": null,
   "metadata": {},
   "outputs": [],
   "source": [
    "est_ate(outcomes, randomize())\n",
    "est_ate(outcomes, randomize())\n",
    "est_ate(outcomes, randomize())"
   ]
  },
  {
   "cell_type": "markdown",
   "metadata": {},
   "source": [
    "So, what we're seeing is that there are some slightly different outcomes to different trement regimes. We can do this, a bunch more times using the `replicate` function. Specifically, do this 5,000 to get a sense of the distribution"
   ]
  },
  {
   "cell_type": "code",
   "execution_count": null,
   "metadata": {},
   "outputs": [],
   "source": [
    "distribution_under_sharp_null <- replicate(5000, est_ate(outcomes, randomize()))"
   ]
  },
  {
   "cell_type": "markdown",
   "metadata": {
    "lines_to_next_cell": 0
   },
   "source": [
    "What does this look like if we examine it a little more? "
   ]
  },
  {
   "cell_type": "code",
   "execution_count": null,
   "metadata": {},
   "outputs": [],
   "source": [
    "plot(density(distribution_under_sharp_null), \n",
    "     main = \"Density under Sharp Null\")\n",
    "hist(distribution_under_sharp_null, \n",
    "     main = \"Histogram under Sharp Null\")"
   ]
  },
  {
   "cell_type": "markdown",
   "metadata": {},
   "source": [
    "How big was our observed difference?"
   ]
  },
  {
   "cell_type": "code",
   "execution_count": null,
   "metadata": {},
   "outputs": [],
   "source": [
    "par(mfrow = c(1,2))\n",
    "plot(density(distribution_under_sharp_null), \n",
    "     main = \"Density Plot of ATE\")\n",
    "abline(v = ate, col = \"blue\")\n",
    "hist(distribution_under_sharp_null, \n",
    "     main = \"Histogram of ATE\", \n",
    "     freq = FALSE)\n",
    "abline(v = ate, col = \"blue\")"
   ]
  },
  {
   "cell_type": "markdown",
   "metadata": {},
   "source": [
    "As it turns out, that was pretty similar to what we saw in our draw! In fact, what we've got here is pretty likely to turn up by chance. \n",
    "\n",
    "Following David B. statment, we can really easily draw a probability of seeing an ATE of a given size under the repeated randomization regime. "
   ]
  },
  {
   "cell_type": "code",
   "execution_count": null,
   "metadata": {
    "lines_to_next_cell": 0
   },
   "outputs": [],
   "source": [
    "m <- mean(ate <= distribution_under_sharp_null) #p-value\n",
    "m"
   ]
  },
  {
   "cell_type": "markdown",
   "metadata": {},
   "source": [
    "And so we we see that there is a `r m` probability of observing an ATE of this size, given the repreated randomization regime, under the sharp null hypothesis. \n",
    "\n",
    "#Simulate an experiment with a large effect\n",
    "\n",
    "We have seen that when there is no effect, our Randomization Inference regime does a good job at assigning a high probability of observing an effect size equal to or larger than the ATE we calculate from our particular randomization. \n",
    "\n",
    "Now, let's show that when there is a big effect, our Randomization Inference regime does a good job at assigning a low probability of observing an effect size equal to or larger that the ATE we calculate in our regression. "
   ]
  },
  {
   "cell_type": "code",
   "execution_count": null,
   "metadata": {},
   "outputs": [],
   "source": [
    "po_treatment <- po_control + 25 # this is a big effect! \n",
    "po_control\n",
    "po_treatment\n",
    "# Randomize\n",
    "treatment <- randomize()\n",
    "outcomes <- po_treatment * treatment + po_control*(1-treatment)\n",
    "outcomes\n",
    "# Estimate ate\n",
    "ate <- est_ate(outcomes, treatment)\n",
    "ate\n",
    "# What is the uncertainty?\n",
    "distribution_under_sharp_null <- replicate(5000, est_ate(outcomes,\n",
    "                                                         randomize()))\n",
    "plot(density(distribution_under_sharp_null), \n",
    "     xlim = c(-50, 50), \n",
    "     main = \"Density under Sharp Null\")\n",
    "abline(v=ate, col = \"darkgreen\", lwd = 2)\n",
    "mean(ate < distribution_under_sharp_null) #p-value"
   ]
  },
  {
   "cell_type": "markdown",
   "metadata": {},
   "source": [
    "# Statistical power\n",
    "\n",
    "To get a sense for how power increases or decreases with sample size and effect size, here we're going to wrap *everything* that we've done before in another function that will simulate our entire study. \n",
    "\n",
    "As we note in the lecture, there is a third component to power that we are going to leave for next week: the variation in outcomes. (*Preview: if we decrease variation in outcomes either by including pre-treatment covariates, or explicitly designing our sampling to reduce this variation by blocking, we will increase our power.*)"
   ]
  },
  {
   "cell_type": "code",
   "execution_count": null,
   "metadata": {},
   "outputs": [],
   "source": [
    "# Function to simulate a study of a given \n",
    "# treatment effect and get the p-value\n",
    "\n",
    "simulate_study <- function(treatment_effect_size) {\n",
    "  po_control <- c(seq(from = 1,  to = 20), \n",
    "                  seq(from = 51, to = 70) )\n",
    "  po_treatment <- po_control + treatment_effect_size\n",
    "  treatment <- randomize()\n",
    "  outcomes <- po_treatment * treatment + po_control * (1- treatment)\n",
    "  ate <- est_ate(outcomes, treatment)\n",
    "  distribution_under_sharp_null <- replicate(1000, est_ate(outcomes, randomize()) )\n",
    "  return(mean(ate < distribution_under_sharp_null))\n",
    "}"
   ]
  },
  {
   "cell_type": "markdown",
   "metadata": {},
   "source": [
    "With that function in hand, we can run with our simulations! "
   ]
  },
  {
   "cell_type": "code",
   "execution_count": null,
   "metadata": {
    "lines_to_next_cell": 0
   },
   "outputs": [],
   "source": [
    "simulate_study(0) # p-value for no effect\n",
    "p_values <- replicate(1000, simulate_study(0)) # distribution of pvalues\n",
    "plot(density(p_values, from = 0, to = 1), xlim = c(0,1), \n",
    "     main = \"Density of p-values \\n t = 0\") # uniform distribution\n",
    "# how often is p_value under 0.05 when there is no effect?"
   ]
  },
  {
   "cell_type": "markdown",
   "metadata": {},
   "source": [
    "That line is kind of warbeling around as a result of statistical noise, but more or less, we have a horizontal line -- or at the very least, a line that would not be very informative if we had to place a bet about where on the range the p-value is most likely to lie. \n",
    "\n",
    "In fact, if we look at the average p-value from this distribution, we see that it is `r mean(p_values < 0.05)`. This means that the *average* probability of seeing a treatment size of size $\\hat{ATE}$ under the sharp null hypothesis, across all 5,000 of our replications is `r mean(p_values < 0.05)`. That is really, *really* likely. \n",
    "\n",
    "What happens if we incrase the effect size in our simulated study? Now, we're moving from a simulation that supposes there is no effect of soy on estrogen levels to a simulation that supposes there is a 10 unit increase in the estrogen levels of subjects who are treated with soy. "
   ]
  },
  {
   "cell_type": "code",
   "execution_count": null,
   "metadata": {},
   "outputs": [],
   "source": [
    "p_values <- replicate(1000, simulate_study(10))\n",
    "plot(density(p_values, from = 0, to = 1), \n",
    "     main = \"Density of p-values \\n t = 10\")"
   ]
  },
  {
   "cell_type": "markdown",
   "metadata": {},
   "source": [
    "In the proceeding plot, we have quite a bit more information about the distribution of the p-values (which are themselves the result of a distribution...stay with us here). In this case, the average p-value from the 1,000 replications of the experiment under the sharp-null is `r mean(p_values)`. This is *lower* than before -- which is sensible given we have increased the simulated effect. With a larger effect, we should think that it is less likely to see an effect size of $\\hat{ATE}$ due only to random chance, and as such, the mean p-value should be smaller to reflect this state of the world. \n",
    "\n",
    "A little more about the average p-values: What does the \"average\" p-value look like under this regime? And how often do we see p-values that are smaller than 0.05? This is the RI relative to a classical hypothesis test that relies on strong statistical assumptions about sampling, distributions and the law of large numbers. "
   ]
  },
  {
   "cell_type": "code",
   "execution_count": null,
   "metadata": {},
   "outputs": [],
   "source": [
    "mean(p_values) \n",
    "mean(p_values < 0.05) # somewhat likely to detect this effect\n",
    "table(p_values < 0.05)"
   ]
  },
  {
   "cell_type": "markdown",
   "metadata": {},
   "source": [
    "Now, do it again, but with a simulated treatment effect size of twenty: $\\tau_{i} = 20$ for everyone in the study. What then are the chances that we see an effect size as large as we do for a single randomization, just by chance? "
   ]
  },
  {
   "cell_type": "code",
   "execution_count": null,
   "metadata": {},
   "outputs": [],
   "source": [
    "p_values <- replicate(1000, simulate_study(20))\n",
    "plot(density(p_values, from = 0, to = 1), \n",
    "     main = \"Density of p-values \\n t = 20\")\n",
    "# What do those p-values look like? \n",
    "mean(p_values)\n",
    "mean(p_values < 0.05)   # very likely to \n",
    "table(p_values < 0.05)  # detect this effect"
   ]
  }
 ],
 "metadata": {
  "jupytext": {
   "cell_metadata_filter": "-all",
   "main_language": "R",
   "notebook_metadata_filter": "-all"
  },
  "kernelspec": {
   "display_name": "Python 3",
   "language": "python",
   "name": "python3"
  },
  "language_info": {
   "codemirror_mode": {
    "name": "ipython",
    "version": 3
   },
   "file_extension": ".py",
   "mimetype": "text/x-python",
   "name": "python",
   "nbconvert_exporter": "python",
   "pygments_lexer": "ipython3",
   "version": "3.6.4"
  }
 },
 "nbformat": 4,
 "nbformat_minor": 2
}
